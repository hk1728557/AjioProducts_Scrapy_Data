{
 "cells": [
  {
   "cell_type": "code",
   "execution_count": 1,
   "id": "4b72e957",
   "metadata": {},
   "outputs": [],
   "source": [
    "import pymongo\n",
    "import pandas as pd"
   ]
  },
  {
   "cell_type": "code",
   "execution_count": 2,
   "id": "e6960bc6",
   "metadata": {},
   "outputs": [],
   "source": [
    "#connect python to mongodb \n",
    "client = pymongo.MongoClient(\"mongodb://localhost:27017\") "
   ]
  },
  {
   "cell_type": "code",
   "execution_count": 3,
   "id": "f095e492",
   "metadata": {},
   "outputs": [
    {
     "data": {
      "text/plain": [
       "Database(MongoClient(host=['localhost:27017'], document_class=dict, tz_aware=False, connect=True), 'mongodbDemo')"
      ]
     },
     "execution_count": 3,
     "metadata": {},
     "output_type": "execute_result"
    }
   ],
   "source": [
    "#create database\n",
    "db = client[\"mongodbDemo\"]\n",
    "db"
   ]
  },
  {
   "cell_type": "code",
   "execution_count": 4,
   "id": "17348371",
   "metadata": {},
   "outputs": [
    {
     "data": {
      "text/plain": [
       "<pymongo.results.InsertOneResult at 0x1da52ad2d30>"
      ]
     },
     "execution_count": 4,
     "metadata": {},
     "output_type": "execute_result"
    }
   ],
   "source": [
    "#create collection (inventory) in the database\n",
    "#insert one data in the collection\n",
    "db.inventory.insert_one(\n",
    "    {\n",
    "        \"item\": \"canvas\",\n",
    "        \"qty\": 100,\n",
    "        \"tags\": [\"cotton\"],\n",
    "        \"size\": {\"h\": 28, \"w\": 35.5, \"uom\": \"cm\"},\n",
    "    }\n",
    ")"
   ]
  },
  {
   "cell_type": "code",
   "execution_count": 5,
   "id": "c0539640",
   "metadata": {},
   "outputs": [
    {
     "data": {
      "text/plain": [
       "[{'_id': ObjectId('63b923c1feac261305f83e77'),\n",
       "  'item': 'canvas',\n",
       "  'qty': 100,\n",
       "  'tags': ['cotton'],\n",
       "  'size': {'h': 28, 'w': 35.5, 'uom': 'cm'}}]"
      ]
     },
     "execution_count": 5,
     "metadata": {},
     "output_type": "execute_result"
    }
   ],
   "source": [
    "#To retrieve the all document\n",
    "list(db.inventory.find())"
   ]
  },
  {
   "cell_type": "code",
   "execution_count": 6,
   "id": "ae6f413b",
   "metadata": {},
   "outputs": [
    {
     "data": {
      "text/plain": [
       "[{'_id': ObjectId('63b923c1feac261305f83e77'),\n",
       "  'item': 'canvas',\n",
       "  'qty': 100,\n",
       "  'tags': ['cotton'],\n",
       "  'size': {'h': 28, 'w': 35.5, 'uom': 'cm'}}]"
      ]
     },
     "execution_count": 6,
     "metadata": {},
     "output_type": "execute_result"
    }
   ],
   "source": [
    "#To retrieve the document using (key: values)\n",
    "list(db.inventory.find({\"item\": \"canvas\"}))"
   ]
  },
  {
   "cell_type": "code",
   "execution_count": 7,
   "id": "78b6a96d",
   "metadata": {},
   "outputs": [
    {
     "data": {
      "text/plain": [
       "<pymongo.results.InsertManyResult at 0x1da52b00eb0>"
      ]
     },
     "execution_count": 7,
     "metadata": {},
     "output_type": "execute_result"
    }
   ],
   "source": [
    "#To insert many document\n",
    "db.inventory.insert_many(\n",
    "    [\n",
    "        {\n",
    "            \"item\": \"journal\",\n",
    "            \"qty\": 25,\n",
    "            \"tags\": [\"blank\", \"red\"],\n",
    "            \"size\": {\"h\": 14, \"w\": 21, \"uom\": \"cm\"},\n",
    "        },\n",
    "        {\n",
    "            \"item\": \"mat\",\n",
    "            \"qty\": 85,\n",
    "            \"tags\": [\"gray\"],\n",
    "            \"size\": {\"h\": 27.9, \"w\": 35.5, \"uom\": \"cm\"},\n",
    "        },\n",
    "        {\n",
    "            \"item\": \"mousepad\",\n",
    "            \"qty\": 25,\n",
    "            \"tags\": [\"gel\", \"blue\"],\n",
    "            \"size\": {\"h\": 19, \"w\": 22.85, \"uom\": \"cm\"},\n",
    "        },\n",
    "    ]\n",
    ")"
   ]
  },
  {
   "cell_type": "code",
   "execution_count": 8,
   "id": "3269b42f",
   "metadata": {},
   "outputs": [
    {
     "data": {
      "text/plain": [
       "[{'_id': ObjectId('63b923c1feac261305f83e77'),\n",
       "  'item': 'canvas',\n",
       "  'qty': 100,\n",
       "  'tags': ['cotton'],\n",
       "  'size': {'h': 28, 'w': 35.5, 'uom': 'cm'}},\n",
       " {'_id': ObjectId('63b923c1feac261305f83e78'),\n",
       "  'item': 'journal',\n",
       "  'qty': 25,\n",
       "  'tags': ['blank', 'red'],\n",
       "  'size': {'h': 14, 'w': 21, 'uom': 'cm'}},\n",
       " {'_id': ObjectId('63b923c1feac261305f83e79'),\n",
       "  'item': 'mat',\n",
       "  'qty': 85,\n",
       "  'tags': ['gray'],\n",
       "  'size': {'h': 27.9, 'w': 35.5, 'uom': 'cm'}},\n",
       " {'_id': ObjectId('63b923c1feac261305f83e7a'),\n",
       "  'item': 'mousepad',\n",
       "  'qty': 25,\n",
       "  'tags': ['gel', 'blue'],\n",
       "  'size': {'h': 19, 'w': 22.85, 'uom': 'cm'}}]"
      ]
     },
     "execution_count": 8,
     "metadata": {},
     "output_type": "execute_result"
    }
   ],
   "source": [
    "list(db.inventory.find())"
   ]
  },
  {
   "cell_type": "code",
   "execution_count": 9,
   "id": "2a14a172",
   "metadata": {},
   "outputs": [
    {
     "data": {
      "text/plain": [
       "<pymongo.results.InsertManyResult at 0x1da52b10f40>"
      ]
     },
     "execution_count": 9,
     "metadata": {},
     "output_type": "execute_result"
    }
   ],
   "source": [
    "db.inventory.insert_many(\n",
    "    [\n",
    "        {\n",
    "            \"item\": \"journal\",\n",
    "            \"qty\": 25,\n",
    "            \"size\": {\"h\": 14, \"w\": 21, \"uom\": \"cm\"},\n",
    "            \"status\": \"A\",\n",
    "        },\n",
    "        {\n",
    "            \"item\": \"notebook\",\n",
    "            \"qty\": 50,\n",
    "            \"size\": {\"h\": 8.5, \"w\": 11, \"uom\": \"in\"},\n",
    "            \"status\": \"A\",\n",
    "        },\n",
    "        {\n",
    "            \"item\": \"paper\",\n",
    "            \"qty\": 100,\n",
    "            \"size\": {\"h\": 8.5, \"w\": 11, \"uom\": \"in\"},\n",
    "            \"status\": \"D\",\n",
    "        },\n",
    "        {\n",
    "            \"item\": \"planner\",\n",
    "            \"qty\": 75,\n",
    "            \"size\": {\"h\": 22.85, \"w\": 30, \"uom\": \"cm\"},\n",
    "            \"status\": \"D\",\n",
    "        },\n",
    "        {\n",
    "            \"item\": \"postcard\",\n",
    "            \"qty\": 45,\n",
    "            \"size\": {\"h\": 10, \"w\": 15.25, \"uom\": \"cm\"},\n",
    "            \"status\": \"A\",\n",
    "        },\n",
    "    ]\n",
    ")"
   ]
  },
  {
   "cell_type": "code",
   "execution_count": 10,
   "id": "d6be1f93",
   "metadata": {},
   "outputs": [
    {
     "data": {
      "text/plain": [
       "[{'_id': ObjectId('63b923c1feac261305f83e7d'),\n",
       "  'item': 'paper',\n",
       "  'qty': 100,\n",
       "  'size': {'h': 8.5, 'w': 11, 'uom': 'in'},\n",
       "  'status': 'D'},\n",
       " {'_id': ObjectId('63b923c1feac261305f83e7e'),\n",
       "  'item': 'planner',\n",
       "  'qty': 75,\n",
       "  'size': {'h': 22.85, 'w': 30, 'uom': 'cm'},\n",
       "  'status': 'D'}]"
      ]
     },
     "execution_count": 10,
     "metadata": {},
     "output_type": "execute_result"
    }
   ],
   "source": [
    "#select all the documents  the status equals \"D\" \n",
    "#<field>:<value> expration\n",
    "list(db.inventory.find({\"status\": \"D\"}))"
   ]
  },
  {
   "cell_type": "code",
   "execution_count": 11,
   "id": "feb1f9e9",
   "metadata": {},
   "outputs": [
    {
     "data": {
      "text/plain": [
       "[{'_id': ObjectId('63b923c1feac261305f83e7b'),\n",
       "  'item': 'journal',\n",
       "  'qty': 25,\n",
       "  'size': {'h': 14, 'w': 21, 'uom': 'cm'},\n",
       "  'status': 'A'},\n",
       " {'_id': ObjectId('63b923c1feac261305f83e7c'),\n",
       "  'item': 'notebook',\n",
       "  'qty': 50,\n",
       "  'size': {'h': 8.5, 'w': 11, 'uom': 'in'},\n",
       "  'status': 'A'},\n",
       " {'_id': ObjectId('63b923c1feac261305f83e7d'),\n",
       "  'item': 'paper',\n",
       "  'qty': 100,\n",
       "  'size': {'h': 8.5, 'w': 11, 'uom': 'in'},\n",
       "  'status': 'D'},\n",
       " {'_id': ObjectId('63b923c1feac261305f83e7e'),\n",
       "  'item': 'planner',\n",
       "  'qty': 75,\n",
       "  'size': {'h': 22.85, 'w': 30, 'uom': 'cm'},\n",
       "  'status': 'D'},\n",
       " {'_id': ObjectId('63b923c1feac261305f83e7f'),\n",
       "  'item': 'postcard',\n",
       "  'qty': 45,\n",
       "  'size': {'h': 10, 'w': 15.25, 'uom': 'cm'},\n",
       "  'status': 'A'}]"
      ]
     },
     "execution_count": 11,
     "metadata": {},
     "output_type": "execute_result"
    }
   ],
   "source": [
    "#retrieves all documents from the inventory collection where status equals either \"A\" or \"D\":\n",
    "#{ <field1>: { <operator1>: <value1> }, ... }\n",
    "list(db.inventory.find({\"status\": {\"$in\": [\"A\", \"D\"]}}))"
   ]
  },
  {
   "cell_type": "code",
   "execution_count": 12,
   "id": "bdad025a",
   "metadata": {},
   "outputs": [
    {
     "data": {
      "text/plain": [
       "[{'_id': ObjectId('63b923c1feac261305f83e7b'),\n",
       "  'item': 'journal',\n",
       "  'qty': 25,\n",
       "  'size': {'h': 14, 'w': 21, 'uom': 'cm'},\n",
       "  'status': 'A'}]"
      ]
     },
     "execution_count": 12,
     "metadata": {},
     "output_type": "execute_result"
    }
   ],
   "source": [
    "#retrieves all documents in the inventory collection where the status equals \"A\" and qty is less than ($lt) 30:\n",
    "list(db.inventory.find({\"status\": \"A\", \"qty\": {\"$lt\": 30}}))"
   ]
  },
  {
   "cell_type": "code",
   "execution_count": 13,
   "id": "17cd8ae3",
   "metadata": {},
   "outputs": [
    {
     "data": {
      "text/plain": [
       "[{'_id': ObjectId('63b923c1feac261305f83e78'),\n",
       "  'item': 'journal',\n",
       "  'qty': 25,\n",
       "  'tags': ['blank', 'red'],\n",
       "  'size': {'h': 14, 'w': 21, 'uom': 'cm'}},\n",
       " {'_id': ObjectId('63b923c1feac261305f83e7a'),\n",
       "  'item': 'mousepad',\n",
       "  'qty': 25,\n",
       "  'tags': ['gel', 'blue'],\n",
       "  'size': {'h': 19, 'w': 22.85, 'uom': 'cm'}},\n",
       " {'_id': ObjectId('63b923c1feac261305f83e7b'),\n",
       "  'item': 'journal',\n",
       "  'qty': 25,\n",
       "  'size': {'h': 14, 'w': 21, 'uom': 'cm'},\n",
       "  'status': 'A'},\n",
       " {'_id': ObjectId('63b923c1feac261305f83e7c'),\n",
       "  'item': 'notebook',\n",
       "  'qty': 50,\n",
       "  'size': {'h': 8.5, 'w': 11, 'uom': 'in'},\n",
       "  'status': 'A'},\n",
       " {'_id': ObjectId('63b923c1feac261305f83e7f'),\n",
       "  'item': 'postcard',\n",
       "  'qty': 45,\n",
       "  'size': {'h': 10, 'w': 15.25, 'uom': 'cm'},\n",
       "  'status': 'A'}]"
      ]
     },
     "execution_count": 13,
     "metadata": {},
     "output_type": "execute_result"
    }
   ],
   "source": [
    "# retrieves all documents in the collection where the status equals \"A\" or qty is less than ($lt) 30:\n",
    "list(db.inventory.find({\"$or\": [{\"status\": \"A\"}, {\"qty\": {\"$lt\": 30}}]}))"
   ]
  },
  {
   "cell_type": "code",
   "execution_count": 14,
   "id": "a11d57e3",
   "metadata": {},
   "outputs": [
    {
     "data": {
      "text/plain": [
       "[{'_id': ObjectId('63b923c1feac261305f83e7b'),\n",
       "  'item': 'journal',\n",
       "  'qty': 25,\n",
       "  'size': {'h': 14, 'w': 21, 'uom': 'cm'},\n",
       "  'status': 'A'},\n",
       " {'_id': ObjectId('63b923c1feac261305f83e7f'),\n",
       "  'item': 'postcard',\n",
       "  'qty': 45,\n",
       "  'size': {'h': 10, 'w': 15.25, 'uom': 'cm'},\n",
       "  'status': 'A'}]"
      ]
     },
     "execution_count": 14,
     "metadata": {},
     "output_type": "execute_result"
    }
   ],
   "source": [
    "# the compound query document selects all documents in the collection where the status equals \"A\" and either qty is less \n",
    "# than ($lt) 30 or item starts with the character p:\n",
    "#MongoDB supports regular expressions $regex queries to perform string pattern matches.\n",
    "list(db.inventory.find({\"status\": \"A\", \"$or\": [{\"qty\": {\"$lt\": 30}}, {\"item\": {\"$regex\": \"^p\"}}]}))"
   ]
  },
  {
   "cell_type": "code",
   "execution_count": 15,
   "id": "9196e8ef",
   "metadata": {},
   "outputs": [
    {
     "data": {
      "text/plain": [
       "<pymongo.results.InsertManyResult at 0x1da52b17400>"
      ]
     },
     "execution_count": 15,
     "metadata": {},
     "output_type": "execute_result"
    }
   ],
   "source": [
    "# Subdocument key order matters in a few of these examples so we have\n",
    "# to use bson.son.SON instead of a Python dict.\n",
    "from bson.son import SON\n",
    "\n",
    "db.inventory.insert_many(\n",
    "    [\n",
    "        {\n",
    "            \"item\": \"journal\",\n",
    "            \"qty\": 25,\n",
    "            \"size\": SON([(\"h\", 14), (\"w\", 21), (\"uom\", \"cm\")]),\n",
    "            \"status\": \"A\",\n",
    "        },\n",
    "        {\n",
    "            \"item\": \"notebook\",\n",
    "            \"qty\": 50,\n",
    "            \"size\": SON([(\"h\", 8.5), (\"w\", 11), (\"uom\", \"in\")]),\n",
    "            \"status\": \"A\",\n",
    "        },\n",
    "        {\n",
    "            \"item\": \"paper\",\n",
    "            \"qty\": 100,\n",
    "            \"size\": SON([(\"h\", 8.5), (\"w\", 11), (\"uom\", \"in\")]),\n",
    "            \"status\": \"D\",\n",
    "        },\n",
    "        {\n",
    "            \"item\": \"planner\",\n",
    "            \"qty\": 75,\n",
    "            \"size\": SON([(\"h\", 22.85), (\"w\", 30), (\"uom\", \"cm\")]),\n",
    "            \"status\": \"D\",\n",
    "        },\n",
    "        {\n",
    "            \"item\": \"postcard\",\n",
    "            \"qty\": 45,\n",
    "            \"size\": SON([(\"h\", 10), (\"w\", 15.25), (\"uom\", \"cm\")]),\n",
    "            \"status\": \"A\",\n",
    "        },\n",
    "    ]\n",
    ")"
   ]
  },
  {
   "cell_type": "code",
   "execution_count": 16,
   "id": "96179fc8",
   "metadata": {},
   "outputs": [
    {
     "data": {
      "text/plain": [
       "[{'_id': ObjectId('63b923c1feac261305f83e78'),\n",
       "  'item': 'journal',\n",
       "  'qty': 25,\n",
       "  'tags': ['blank', 'red'],\n",
       "  'size': {'h': 14, 'w': 21, 'uom': 'cm'}},\n",
       " {'_id': ObjectId('63b923c1feac261305f83e7b'),\n",
       "  'item': 'journal',\n",
       "  'qty': 25,\n",
       "  'size': {'h': 14, 'w': 21, 'uom': 'cm'},\n",
       "  'status': 'A'},\n",
       " {'_id': ObjectId('63b923c1feac261305f83e80'),\n",
       "  'item': 'journal',\n",
       "  'qty': 25,\n",
       "  'size': {'h': 14, 'w': 21, 'uom': 'cm'},\n",
       "  'status': 'A'}]"
      ]
     },
     "execution_count": 16,
     "metadata": {},
     "output_type": "execute_result"
    }
   ],
   "source": [
    "#For example, the following query selects all documents where the field size equals the document { h: 14, w: 21, uom: \"cm\" }:\n",
    "list(db.inventory.find({\"size\": SON([(\"h\", 14), (\"w\", 21), (\"uom\", \"cm\")])}))"
   ]
  },
  {
   "cell_type": "code",
   "execution_count": 17,
   "id": "a5a20980",
   "metadata": {},
   "outputs": [
    {
     "data": {
      "text/plain": [
       "[{'_id': ObjectId('63b923c1feac261305f83e7c'),\n",
       "  'item': 'notebook',\n",
       "  'qty': 50,\n",
       "  'size': {'h': 8.5, 'w': 11, 'uom': 'in'},\n",
       "  'status': 'A'},\n",
       " {'_id': ObjectId('63b923c1feac261305f83e7d'),\n",
       "  'item': 'paper',\n",
       "  'qty': 100,\n",
       "  'size': {'h': 8.5, 'w': 11, 'uom': 'in'},\n",
       "  'status': 'D'},\n",
       " {'_id': ObjectId('63b923c1feac261305f83e81'),\n",
       "  'item': 'notebook',\n",
       "  'qty': 50,\n",
       "  'size': {'h': 8.5, 'w': 11, 'uom': 'in'},\n",
       "  'status': 'A'},\n",
       " {'_id': ObjectId('63b923c1feac261305f83e82'),\n",
       "  'item': 'paper',\n",
       "  'qty': 100,\n",
       "  'size': {'h': 8.5, 'w': 11, 'uom': 'in'},\n",
       "  'status': 'D'}]"
      ]
     },
     "execution_count": 17,
     "metadata": {},
     "output_type": "execute_result"
    }
   ],
   "source": [
    "#selects all documents where the field uom nested in the size field equals \"in\":\n",
    "list(db.inventory.find({\"size.uom\": \"in\"}))"
   ]
  },
  {
   "cell_type": "code",
   "execution_count": 18,
   "id": "c032d5c8",
   "metadata": {},
   "outputs": [
    {
     "data": {
      "text/plain": [
       "[{'_id': ObjectId('63b923c1feac261305f83e78'),\n",
       "  'item': 'journal',\n",
       "  'qty': 25,\n",
       "  'tags': ['blank', 'red'],\n",
       "  'size': {'h': 14, 'w': 21, 'uom': 'cm'}},\n",
       " {'_id': ObjectId('63b923c1feac261305f83e7b'),\n",
       "  'item': 'journal',\n",
       "  'qty': 25,\n",
       "  'size': {'h': 14, 'w': 21, 'uom': 'cm'},\n",
       "  'status': 'A'},\n",
       " {'_id': ObjectId('63b923c1feac261305f83e7c'),\n",
       "  'item': 'notebook',\n",
       "  'qty': 50,\n",
       "  'size': {'h': 8.5, 'w': 11, 'uom': 'in'},\n",
       "  'status': 'A'},\n",
       " {'_id': ObjectId('63b923c1feac261305f83e7d'),\n",
       "  'item': 'paper',\n",
       "  'qty': 100,\n",
       "  'size': {'h': 8.5, 'w': 11, 'uom': 'in'},\n",
       "  'status': 'D'},\n",
       " {'_id': ObjectId('63b923c1feac261305f83e7f'),\n",
       "  'item': 'postcard',\n",
       "  'qty': 45,\n",
       "  'size': {'h': 10, 'w': 15.25, 'uom': 'cm'},\n",
       "  'status': 'A'},\n",
       " {'_id': ObjectId('63b923c1feac261305f83e80'),\n",
       "  'item': 'journal',\n",
       "  'qty': 25,\n",
       "  'size': {'h': 14, 'w': 21, 'uom': 'cm'},\n",
       "  'status': 'A'},\n",
       " {'_id': ObjectId('63b923c1feac261305f83e81'),\n",
       "  'item': 'notebook',\n",
       "  'qty': 50,\n",
       "  'size': {'h': 8.5, 'w': 11, 'uom': 'in'},\n",
       "  'status': 'A'},\n",
       " {'_id': ObjectId('63b923c1feac261305f83e82'),\n",
       "  'item': 'paper',\n",
       "  'qty': 100,\n",
       "  'size': {'h': 8.5, 'w': 11, 'uom': 'in'},\n",
       "  'status': 'D'},\n",
       " {'_id': ObjectId('63b923c1feac261305f83e84'),\n",
       "  'item': 'postcard',\n",
       "  'qty': 45,\n",
       "  'size': {'h': 10, 'w': 15.25, 'uom': 'cm'},\n",
       "  'status': 'A'}]"
      ]
     },
     "execution_count": 18,
     "metadata": {},
     "output_type": "execute_result"
    }
   ],
   "source": [
    "#query uses the less than operator ($lt) on the field h embedded in the size field:\n",
    "list(db.inventory.find({\"size.h\": {\"$lt\": 15}}))"
   ]
  },
  {
   "cell_type": "code",
   "execution_count": 19,
   "id": "a6ea511a",
   "metadata": {},
   "outputs": [
    {
     "data": {
      "text/plain": [
       "[{'_id': ObjectId('63b923c1feac261305f83e7d'),\n",
       "  'item': 'paper',\n",
       "  'qty': 100,\n",
       "  'size': {'h': 8.5, 'w': 11, 'uom': 'in'},\n",
       "  'status': 'D'},\n",
       " {'_id': ObjectId('63b923c1feac261305f83e82'),\n",
       "  'item': 'paper',\n",
       "  'qty': 100,\n",
       "  'size': {'h': 8.5, 'w': 11, 'uom': 'in'},\n",
       "  'status': 'D'}]"
      ]
     },
     "execution_count": 19,
     "metadata": {},
     "output_type": "execute_result"
    }
   ],
   "source": [
    "#selects all documents where the nested field h is less than 15, the nested field uom equals \"in\", \n",
    "#and the status field equals \"D\":\n",
    "list(db.inventory.find({\"size.h\": {\"$lt\": 15}, \"size.uom\": \"in\", \"status\": \"D\"}))"
   ]
  },
  {
   "cell_type": "code",
   "execution_count": 20,
   "id": "1a9a2b80",
   "metadata": {},
   "outputs": [
    {
     "data": {
      "text/plain": [
       "<pymongo.results.InsertManyResult at 0x1da52aef4f0>"
      ]
     },
     "execution_count": 20,
     "metadata": {},
     "output_type": "execute_result"
    }
   ],
   "source": [
    "db.inventory.insert_many(\n",
    "    [\n",
    "        {\"item\": \"journal\", \"qty\": 25, \"tags\": [\"blank\", \"red\"], \"dim_cm\": [14, 21]},\n",
    "        {\"item\": \"notebook\", \"qty\": 50, \"tags\": [\"red\", \"blank\"], \"dim_cm\": [14, 21]},\n",
    "        {\n",
    "            \"item\": \"paper\",\n",
    "            \"qty\": 100,\n",
    "            \"tags\": [\"red\", \"blank\", \"plain\"],\n",
    "            \"dim_cm\": [14, 21],\n",
    "        },\n",
    "        {\"item\": \"planner\", \"qty\": 75, \"tags\": [\"blank\", \"red\"], \"dim_cm\": [22.85, 30]},\n",
    "        {\"item\": \"postcard\", \"qty\": 45, \"tags\": [\"blue\"], \"dim_cm\": [10, 15.25]},\n",
    "    ]\n",
    ")"
   ]
  },
  {
   "cell_type": "code",
   "execution_count": 21,
   "id": "ed759e9b",
   "metadata": {},
   "outputs": [
    {
     "data": {
      "text/plain": [
       "[{'_id': ObjectId('63b930d9feac261305f83e86'),\n",
       "  'item': 'notebook',\n",
       "  'qty': 50,\n",
       "  'tags': ['red', 'blank'],\n",
       "  'dim_cm': [14, 21]}]"
      ]
     },
     "execution_count": 21,
     "metadata": {},
     "output_type": "execute_result"
    }
   ],
   "source": [
    "#Match an Array\n",
    "# queries for all documents where the field tags value is an array with\n",
    "# exactly two elements, \"red\" and \"blank\", in the specified order:\n",
    "list(db.inventory.find({\"tags\": [\"red\", \"blank\"]}))"
   ]
  },
  {
   "cell_type": "code",
   "execution_count": 22,
   "id": "acd14660",
   "metadata": {},
   "outputs": [
    {
     "data": {
      "text/plain": [
       "[{'_id': ObjectId('63b923c1feac261305f83e78'),\n",
       "  'item': 'journal',\n",
       "  'qty': 25,\n",
       "  'tags': ['blank', 'red'],\n",
       "  'size': {'h': 14, 'w': 21, 'uom': 'cm'}},\n",
       " {'_id': ObjectId('63b930d9feac261305f83e85'),\n",
       "  'item': 'journal',\n",
       "  'qty': 25,\n",
       "  'tags': ['blank', 'red'],\n",
       "  'dim_cm': [14, 21]},\n",
       " {'_id': ObjectId('63b930d9feac261305f83e86'),\n",
       "  'item': 'notebook',\n",
       "  'qty': 50,\n",
       "  'tags': ['red', 'blank'],\n",
       "  'dim_cm': [14, 21]},\n",
       " {'_id': ObjectId('63b930d9feac261305f83e87'),\n",
       "  'item': 'paper',\n",
       "  'qty': 100,\n",
       "  'tags': ['red', 'blank', 'plain'],\n",
       "  'dim_cm': [14, 21]},\n",
       " {'_id': ObjectId('63b930d9feac261305f83e88'),\n",
       "  'item': 'planner',\n",
       "  'qty': 75,\n",
       "  'tags': ['blank', 'red'],\n",
       "  'dim_cm': [22.85, 30]}]"
      ]
     },
     "execution_count": 22,
     "metadata": {},
     "output_type": "execute_result"
    }
   ],
   "source": [
    "#find an array that contains both the elements \"red\" and \"blank\", without regard to \n",
    "# order or other elements in the array, use the $all operator:\n",
    "list(db.inventory.find({\"tags\": {\"$all\": [\"red\", \"blank\"]}}))"
   ]
  },
  {
   "cell_type": "code",
   "execution_count": 23,
   "id": "a426eeab",
   "metadata": {},
   "outputs": [
    {
     "data": {
      "text/plain": [
       "[{'_id': ObjectId('63b923c1feac261305f83e78'),\n",
       "  'item': 'journal',\n",
       "  'qty': 25,\n",
       "  'tags': ['blank', 'red'],\n",
       "  'size': {'h': 14, 'w': 21, 'uom': 'cm'}},\n",
       " {'_id': ObjectId('63b930d9feac261305f83e85'),\n",
       "  'item': 'journal',\n",
       "  'qty': 25,\n",
       "  'tags': ['blank', 'red'],\n",
       "  'dim_cm': [14, 21]},\n",
       " {'_id': ObjectId('63b930d9feac261305f83e86'),\n",
       "  'item': 'notebook',\n",
       "  'qty': 50,\n",
       "  'tags': ['red', 'blank'],\n",
       "  'dim_cm': [14, 21]},\n",
       " {'_id': ObjectId('63b930d9feac261305f83e87'),\n",
       "  'item': 'paper',\n",
       "  'qty': 100,\n",
       "  'tags': ['red', 'blank', 'plain'],\n",
       "  'dim_cm': [14, 21]},\n",
       " {'_id': ObjectId('63b930d9feac261305f83e88'),\n",
       "  'item': 'planner',\n",
       "  'qty': 75,\n",
       "  'tags': ['blank', 'red'],\n",
       "  'dim_cm': [22.85, 30]}]"
      ]
     },
     "execution_count": 23,
     "metadata": {},
     "output_type": "execute_result"
    }
   ],
   "source": [
    "#Query an Array for an Element\n",
    "#To query if the array field contains at least one element with the specified value, use the filter { <field>: <value> } \n",
    "#where <value> is the element value.\n",
    "#queries for all documents where tags is an array that contains the string \"red\" as one of its elements:\n",
    "\n",
    "list(db.inventory.find({\"tags\": \"red\"}))"
   ]
  },
  {
   "cell_type": "code",
   "execution_count": 24,
   "id": "3757f7f0",
   "metadata": {},
   "outputs": [
    {
     "data": {
      "text/plain": [
       "[{'_id': ObjectId('63b930d9feac261305f83e88'),\n",
       "  'item': 'planner',\n",
       "  'qty': 75,\n",
       "  'tags': ['blank', 'red'],\n",
       "  'dim_cm': [22.85, 30]}]"
      ]
     },
     "execution_count": 24,
     "metadata": {},
     "output_type": "execute_result"
    }
   ],
   "source": [
    "#{ <array field>: { <operator1>: <value1>, ... } }\n",
    "# operation queries for all documents where the array dim_cm contains at least one element whose value is greater than 25.\n",
    "list(db.inventory.find({\"dim_cm\": {\"$gt\": 25}}))"
   ]
  },
  {
   "cell_type": "code",
   "execution_count": 25,
   "id": "4ee23716",
   "metadata": {},
   "outputs": [
    {
     "data": {
      "text/plain": [
       "[{'_id': ObjectId('63b930d9feac261305f83e85'),\n",
       "  'item': 'journal',\n",
       "  'qty': 25,\n",
       "  'tags': ['blank', 'red'],\n",
       "  'dim_cm': [14, 21]},\n",
       " {'_id': ObjectId('63b930d9feac261305f83e86'),\n",
       "  'item': 'notebook',\n",
       "  'qty': 50,\n",
       "  'tags': ['red', 'blank'],\n",
       "  'dim_cm': [14, 21]},\n",
       " {'_id': ObjectId('63b930d9feac261305f83e87'),\n",
       "  'item': 'paper',\n",
       "  'qty': 100,\n",
       "  'tags': ['red', 'blank', 'plain'],\n",
       "  'dim_cm': [14, 21]},\n",
       " {'_id': ObjectId('63b930d9feac261305f83e89'),\n",
       "  'item': 'postcard',\n",
       "  'qty': 45,\n",
       "  'tags': ['blue'],\n",
       "  'dim_cm': [10, 15.25]}]"
      ]
     },
     "execution_count": 25,
     "metadata": {},
     "output_type": "execute_result"
    }
   ],
   "source": [
    "# queries for documents where the dim_cm array contains elements that in some \n",
    "# combination satisfy the query conditions; e.g., one element can satisfy the greater than 15 condition\n",
    "# and another element can satisfy the less than 20 condition, or a single element can satisfy both:\n",
    "list(db.inventory.find({\"dim_cm\": {\"$gt\": 15, \"$lt\": 20}}))"
   ]
  },
  {
   "cell_type": "code",
   "execution_count": 26,
   "id": "d8c18026",
   "metadata": {},
   "outputs": [
    {
     "data": {
      "text/plain": [
       "[{'_id': ObjectId('63b930d9feac261305f83e88'),\n",
       "  'item': 'planner',\n",
       "  'qty': 75,\n",
       "  'tags': ['blank', 'red'],\n",
       "  'dim_cm': [22.85, 30]}]"
      ]
     },
     "execution_count": 26,
     "metadata": {},
     "output_type": "execute_result"
    }
   ],
   "source": [
    "#Use $elemMatch operator to specify multiple criteria on the elements of an array such that at \n",
    "#least one array element satisfies all the specified criteria.\n",
    "\n",
    "#queries for documents where the dim_cm array contains at least one element \n",
    "#that is both greater than ($gt) 22 and less than ($lt) 30:\n",
    "\n",
    "list(db.inventory.find({\"dim_cm\": {\"$elemMatch\": {\"$gt\": 22, \"$lt\": 30}}}))"
   ]
  },
  {
   "cell_type": "code",
   "execution_count": 31,
   "id": "f53d863f",
   "metadata": {},
   "outputs": [
    {
     "data": {
      "text/plain": [
       "[{'_id': ObjectId('63b930d9feac261305f83e88'),\n",
       "  'item': 'planner',\n",
       "  'qty': 75,\n",
       "  'tags': ['blank', 'red'],\n",
       "  'dim_cm': [22.85, 30]}]"
      ]
     },
     "execution_count": 31,
     "metadata": {},
     "output_type": "execute_result"
    }
   ],
   "source": [
    "#Using dot notation, you can specify query conditions for an element at a particular index or position \n",
    "#of the array. The array uses zero-based indexing.after the dot using index value.\n",
    "\n",
    "# queries for all documents where the second element in the array dim_cm is greater than 25:\n",
    "\n",
    "list(db.inventory.find({\"dim_cm.1\": {\"$gt\": 25}}))"
   ]
  },
  {
   "cell_type": "code",
   "execution_count": 32,
   "id": "586af0fa",
   "metadata": {},
   "outputs": [
    {
     "data": {
      "text/plain": [
       "[{'_id': ObjectId('63b930d9feac261305f83e87'),\n",
       "  'item': 'paper',\n",
       "  'qty': 100,\n",
       "  'tags': ['red', 'blank', 'plain'],\n",
       "  'dim_cm': [14, 21]}]"
      ]
     },
     "execution_count": 32,
     "metadata": {},
     "output_type": "execute_result"
    }
   ],
   "source": [
    "#Use the $size operator to query for arrays by number of elements. For example, the following\n",
    "#selects documents where the array tags has 3 elements.\n",
    "\n",
    "list(db.inventory.find({\"tags\": {\"$size\": 3}}))"
   ]
  },
  {
   "cell_type": "code",
   "execution_count": 56,
   "id": "396f2d23",
   "metadata": {},
   "outputs": [
    {
     "data": {
      "text/plain": [
       "19"
      ]
     },
     "execution_count": 56,
     "metadata": {},
     "output_type": "execute_result"
    }
   ],
   "source": [
    "#find all the document in the database\n",
    "db.inventory.count_documents({})"
   ]
  },
  {
   "cell_type": "code",
   "execution_count": null,
   "id": "82297712",
   "metadata": {},
   "outputs": [],
   "source": []
  }
 ],
 "metadata": {
  "kernelspec": {
   "display_name": "Python 3 (ipykernel)",
   "language": "python",
   "name": "python3"
  },
  "language_info": {
   "codemirror_mode": {
    "name": "ipython",
    "version": 3
   },
   "file_extension": ".py",
   "mimetype": "text/x-python",
   "name": "python",
   "nbconvert_exporter": "python",
   "pygments_lexer": "ipython3",
   "version": "3.9.12"
  }
 },
 "nbformat": 4,
 "nbformat_minor": 5
}
